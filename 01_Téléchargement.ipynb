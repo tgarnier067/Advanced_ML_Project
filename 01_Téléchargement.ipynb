{
 "cells": [
  {
   "cell_type": "code",
   "execution_count": 1,
   "id": "41405bbf-34e5-4bd8-84f3-6ac31e344e25",
   "metadata": {},
   "outputs": [],
   "source": [
    "# Importation des modules\n",
    "\n",
    "%run /home/onyxia/work/Advanced_ML_Project/00_Librairies.ipynb"
   ]
  },
  {
   "cell_type": "code",
   "execution_count": 2,
   "id": "0cbf29fd-57b6-4cbb-a987-6dcb298a089c",
   "metadata": {},
   "outputs": [],
   "source": [
    "# Téléchargement de MNIST via OpenML\n",
    "mnist = fetch_openml('mnist_784', version=1)\n",
    "X, y = mnist['data'], mnist['target']\n",
    "\n",
    "# Sauvegarde des données\n",
    "np.save('mnist_data.npy', X)\n",
    "np.save('mnist_labels.npy', y)"
   ]
  },
  {
   "cell_type": "code",
   "execution_count": 3,
   "id": "06c083e7-2366-438b-b8e6-7be09028ed6c",
   "metadata": {},
   "outputs": [
    {
     "name": "stdout",
     "output_type": "stream",
     "text": [
      "Données : \n",
      " [[0 0 0 ... 0 0 0]\n",
      " [0 0 0 ... 0 0 0]\n",
      " [0 0 0 ... 0 0 0]\n",
      " ...\n",
      " [0 0 0 ... 0 0 0]\n",
      " [0 0 0 ... 0 0 0]\n",
      " [0 0 0 ... 0 0 0]] \n",
      "\n",
      "Labels : \n",
      " ['5' '0' '4' ... '4' '5' '6']\n"
     ]
    }
   ],
   "source": [
    "# Vérification\n",
    "\n",
    "# Chargement des données\n",
    "X = np.load('mnist_data.npy')\n",
    "y = np.load('mnist_labels.npy', allow_pickle=True)\n",
    "\n",
    "# Affichage des données\n",
    "print('Données : \\n', X, '\\n')\n",
    "print('Labels : \\n', y)"
   ]
  }
 ],
 "metadata": {
  "kernelspec": {
   "display_name": "Python 3 (ipykernel)",
   "language": "python",
   "name": "python3"
  },
  "language_info": {
   "codemirror_mode": {
    "name": "ipython",
    "version": 3
   },
   "file_extension": ".py",
   "mimetype": "text/x-python",
   "name": "python",
   "nbconvert_exporter": "python",
   "pygments_lexer": "ipython3",
   "version": "3.12.6"
  }
 },
 "nbformat": 4,
 "nbformat_minor": 5
}
